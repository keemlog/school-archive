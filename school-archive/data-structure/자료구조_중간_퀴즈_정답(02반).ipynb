{
 "cells": [
  {
   "cell_type": "code",
   "execution_count": 1,
   "id": "0676bb3c-a1bd-4973-9f5e-ca10f1b4c447",
   "metadata": {},
   "outputs": [],
   "source": [
    "class Stack:\n",
    "    def __init__(self):\n",
    "        self.items = []\n",
    "    def push(self, item):\n",
    "        self.items.append(item)\n",
    "    def pop(self):\n",
    "        return self.items.pop()\n",
    "    def peek(self):\n",
    "        return self.items[-1]\n",
    "    def isEmpty(self):\n",
    "        return not self.items"
   ]
  },
  {
   "cell_type": "code",
   "execution_count": 2,
   "id": "676b83e7-d4f7-4339-8c4f-36ddad6335b5",
   "metadata": {},
   "outputs": [],
   "source": [
    "def postfix_calculator(expr):\n",
    "    stack = Stack()\n",
    "    if expr == []: # 빈 수식이면 ERROR\n",
    "        return \"Empty expression!\"  \n",
    "    else:\n",
    "        for token in expr:\n",
    "            if token in '+-*/':\n",
    "                if len(stack.items) < 2:  # 스택에 두 개의 숫자가 없는 경우 ERROR \n",
    "                    return \"Wrong expression!\" \n",
    "                else: \n",
    "                    val1 = stack.pop()\n",
    "                    val2 = stack.pop()\n",
    "                    if token == '+':\n",
    "                        stack.push(val2 + val1)\n",
    "                    elif token == '-':\n",
    "                        stack.push(val2 - val1)\n",
    "                    elif token == '*':\n",
    "                        stack.push(val2 * val1)\n",
    "                    else:\n",
    "                        if val1 == 0: # 0으로 나누려고 하는 경우 ERROR\n",
    "                            return \"Division by zero!\" \n",
    "                        else:\n",
    "                            stack.push(val2 / val1)\n",
    "            else:\n",
    "                if token.isdigit():\n",
    "                    stack.push(float(token))\n",
    "                else: # 숫자가 아닌 문자가 수식에 있는 경우 ERROR\n",
    "                    return \"Has non-numeric character!\"\n",
    "    if len(stack.items) != 1: # 스택에 두 개이상의 값이 남아있는 경우 ERROR\n",
    "        return \"Wrong expression!\" \n",
    "    else: # 최종 결과값 Return\n",
    "        return \"Result : {}\".format(stack.pop())"
   ]
  },
  {
   "cell_type": "code",
   "execution_count": 3,
   "id": "4b5034e7-7a8b-4e65-8d1f-1094b2c427f9",
   "metadata": {},
   "outputs": [
    {
     "data": {
      "text/plain": [
       "'Result : 7.0'"
      ]
     },
     "execution_count": 3,
     "metadata": {},
     "output_type": "execute_result"
    }
   ],
   "source": [
    "expr1 = ['8', '2', '/', '3', '-', '3', '2', '*', '+']\n",
    "postfix_calculator(expr1)"
   ]
  },
  {
   "cell_type": "code",
   "execution_count": 4,
   "id": "b581254b-11cd-48a6-9824-2c938848ade5",
   "metadata": {},
   "outputs": [
    {
     "data": {
      "text/plain": [
       "'Wrong expression!'"
      ]
     },
     "execution_count": 4,
     "metadata": {},
     "output_type": "execute_result"
    }
   ],
   "source": [
    "expr1 = ['8', '2', '/', '3', '-', '3', '2', '*', '2', '3']\n",
    "postfix_calculator(expr1)"
   ]
  },
  {
   "cell_type": "code",
   "execution_count": null,
   "id": "a2b8ea08-9adb-477e-9708-3bc2fb2d018c",
   "metadata": {},
   "outputs": [],
   "source": []
  },
  {
   "cell_type": "code",
   "execution_count": null,
   "id": "e90bb8b3-86b1-4189-ad7d-e8c9932766af",
   "metadata": {},
   "outputs": [],
   "source": []
  }
 ],
 "metadata": {
  "kernelspec": {
   "display_name": "Python 3 (ipykernel)",
   "language": "python",
   "name": "python3"
  },
  "language_info": {
   "codemirror_mode": {
    "name": "ipython",
    "version": 3
   },
   "file_extension": ".py",
   "mimetype": "text/x-python",
   "name": "python",
   "nbconvert_exporter": "python",
   "pygments_lexer": "ipython3",
   "version": "3.9.1"
  }
 },
 "nbformat": 4,
 "nbformat_minor": 5
}

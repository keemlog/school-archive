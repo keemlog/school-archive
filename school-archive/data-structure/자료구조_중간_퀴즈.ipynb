{
 "cells": [
  {
   "cell_type": "code",
   "execution_count": 5,
   "id": "5a0faa0b-106b-4a61-8b77-c20b6cc70a6c",
   "metadata": {},
   "outputs": [
    {
     "name": "stdout",
     "output_type": "stream",
     "text": [
      "Result : 7.0\n",
      "Wrong expression!\n"
     ]
    }
   ],
   "source": [
    "# 스택 생성을 위한 클래스\n",
    "class Stack:\n",
    "    def __init__(self):      # list() 함수를 통해 빈 리스트(=스택)를 생성한다.\n",
    "        self.items = list()\n",
    "    def push(self, data):    # append() 함수를 통해 data값을 입력받아 스택에 추가한다.\n",
    "        self.items.append(data)\n",
    "    def pop(self):           # pop() 함수를 통해 스택 상단에 있는 데이터를 삭제 및 반환한다. (스택은 후입선출이라서.. LIFO)\n",
    "        return self.items.pop() \n",
    "    def peek(self):          # 인덱스에서 -1은 가장 마지막 데이터를 의미하고, 인덱스를 통해 데이터를 삭제하지 않고 반환한다.\n",
    "        return self.items[-1]\n",
    "    def isEmpty(self):       # 파이썬에서 빈 리스트는 False를 의미하므로 not을 붙여,  \n",
    "        return not self.items      # 빈 리스트일 경우 True, 그렇지 않은 경워 False를 반환한다.\n",
    "\n",
    "# 후위 표현식 계산 함수\n",
    "def postfix_calculator(statement):\n",
    "    stack = Stack()         # 위에서 작성한 클래스를 통해 stack 생성\n",
    "    for ch in statement:    #입력받은 문자열 내에 표현식이 있을 경우\n",
    "        if ch in '+-*/' :            # ch가 +-*/중 하나인 경우\n",
    "            val1 = stack.pop()       # 스택 하단의 데이터 pop\n",
    "            val2 = stack.pop()       # 스택 하단의 데이터 pop\n",
    "            if ch == '+' :           # ch가 +인 경우\n",
    "                stack.push(val2 + val1)     # 늦게 나온 데이터가 연산자 앞에 위치하도록 지정 후 연산한 값을 push\n",
    "            elif ch == '-' :         # ch가 -인 경우\n",
    "                stack.push(val2 - val1)     # 위와 마찬가지로 val2가 연산자 앞에 위치하도록 지정 후 연산 결과 push\n",
    "            elif ch == '*' :         # ch가 *인 경우\n",
    "                stack.push(val2 * val1)      # 위와 마찬가지로 val2가 연산자 앞에 위치하도록 지정 후 연산 결과 push\n",
    "            elif ch == '/' :         # ch가 /인 경우\n",
    "                stack.push(val2 / val1)      # 위와 마찬가지로 val2가 연산자 앞에 위치하도록 지정 후 연산 결과 push\n",
    "        else :                       # ch가 '+-*/'가 아닌 경우, 숫자형으로 저장\n",
    "            stack.push(float(ch))\n",
    "            \n",
    "    left = stack.pop()\n",
    "    if stack.isEmpty()==True:        # 스택이 비어있다면 후위 표현식 연산 결과값 출력\n",
    "         print(f'Result : {left}')\n",
    "    else :                           # 비어있지 않다면 오류 문구 출력\n",
    "        print(\"Wrong expression!\")\n",
    "\n",
    "expr1 = ['8', '2', '/', '3', '-', '3', '2', '*', '+']\n",
    "postfix_calculator(expr1)\n",
    "\n",
    "expr2 =  ['8', '2', '/', '3', '-', '3', '2', '*']\n",
    "postfix_calculator(expr2)\n",
    "\n"
   ]
  },
  {
   "cell_type": "code",
   "execution_count": null,
   "id": "ba9e95a1-af2b-436f-8daf-89d253975a3c",
   "metadata": {},
   "outputs": [],
   "source": []
  }
 ],
 "metadata": {
  "kernelspec": {
   "display_name": "Python 3 (ipykernel)",
   "language": "python",
   "name": "python3"
  },
  "language_info": {
   "codemirror_mode": {
    "name": "ipython",
    "version": 3
   },
   "file_extension": ".py",
   "mimetype": "text/x-python",
   "name": "python",
   "nbconvert_exporter": "python",
   "pygments_lexer": "ipython3",
   "version": "3.12.2"
  }
 },
 "nbformat": 4,
 "nbformat_minor": 5
}
